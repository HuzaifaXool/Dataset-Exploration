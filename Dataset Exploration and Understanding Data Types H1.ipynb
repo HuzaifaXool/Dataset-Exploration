{
 "cells": [
  {
   "cell_type": "code",
   "execution_count": 1,
   "id": "f8689a22-b661-4904-a4bf-2f5a27d070da",
   "metadata": {},
   "outputs": [],
   "source": [
    "from sklearn import datasets"
   ]
  },
  {
   "cell_type": "code",
   "execution_count": 2,
   "id": "72d39ffc-33d3-4122-9902-e3618f9e32ed",
   "metadata": {},
   "outputs": [],
   "source": [
    "import pandas as pd"
   ]
  },
  {
   "cell_type": "code",
   "execution_count": 3,
   "id": "022aab28-398c-4d20-bb42-95f31cb230be",
   "metadata": {},
   "outputs": [],
   "source": [
    "iris=datasets.load_iris()"
   ]
  },
  {
   "cell_type": "code",
   "execution_count": 4,
   "id": "5a6a0542-2103-4b51-adab-f2912f992c99",
   "metadata": {},
   "outputs": [
    {
     "data": {
      "text/plain": [
       "{'data': array([[5.1, 3.5, 1.4, 0.2],\n",
       "        [4.9, 3. , 1.4, 0.2],\n",
       "        [4.7, 3.2, 1.3, 0.2],\n",
       "        [4.6, 3.1, 1.5, 0.2],\n",
       "        [5. , 3.6, 1.4, 0.2],\n",
       "        [5.4, 3.9, 1.7, 0.4],\n",
       "        [4.6, 3.4, 1.4, 0.3],\n",
       "        [5. , 3.4, 1.5, 0.2],\n",
       "        [4.4, 2.9, 1.4, 0.2],\n",
       "        [4.9, 3.1, 1.5, 0.1],\n",
       "        [5.4, 3.7, 1.5, 0.2],\n",
       "        [4.8, 3.4, 1.6, 0.2],\n",
       "        [4.8, 3. , 1.4, 0.1],\n",
       "        [4.3, 3. , 1.1, 0.1],\n",
       "        [5.8, 4. , 1.2, 0.2],\n",
       "        [5.7, 4.4, 1.5, 0.4],\n",
       "        [5.4, 3.9, 1.3, 0.4],\n",
       "        [5.1, 3.5, 1.4, 0.3],\n",
       "        [5.7, 3.8, 1.7, 0.3],\n",
       "        [5.1, 3.8, 1.5, 0.3],\n",
       "        [5.4, 3.4, 1.7, 0.2],\n",
       "        [5.1, 3.7, 1.5, 0.4],\n",
       "        [4.6, 3.6, 1. , 0.2],\n",
       "        [5.1, 3.3, 1.7, 0.5],\n",
       "        [4.8, 3.4, 1.9, 0.2],\n",
       "        [5. , 3. , 1.6, 0.2],\n",
       "        [5. , 3.4, 1.6, 0.4],\n",
       "        [5.2, 3.5, 1.5, 0.2],\n",
       "        [5.2, 3.4, 1.4, 0.2],\n",
       "        [4.7, 3.2, 1.6, 0.2],\n",
       "        [4.8, 3.1, 1.6, 0.2],\n",
       "        [5.4, 3.4, 1.5, 0.4],\n",
       "        [5.2, 4.1, 1.5, 0.1],\n",
       "        [5.5, 4.2, 1.4, 0.2],\n",
       "        [4.9, 3.1, 1.5, 0.2],\n",
       "        [5. , 3.2, 1.2, 0.2],\n",
       "        [5.5, 3.5, 1.3, 0.2],\n",
       "        [4.9, 3.6, 1.4, 0.1],\n",
       "        [4.4, 3. , 1.3, 0.2],\n",
       "        [5.1, 3.4, 1.5, 0.2],\n",
       "        [5. , 3.5, 1.3, 0.3],\n",
       "        [4.5, 2.3, 1.3, 0.3],\n",
       "        [4.4, 3.2, 1.3, 0.2],\n",
       "        [5. , 3.5, 1.6, 0.6],\n",
       "        [5.1, 3.8, 1.9, 0.4],\n",
       "        [4.8, 3. , 1.4, 0.3],\n",
       "        [5.1, 3.8, 1.6, 0.2],\n",
       "        [4.6, 3.2, 1.4, 0.2],\n",
       "        [5.3, 3.7, 1.5, 0.2],\n",
       "        [5. , 3.3, 1.4, 0.2],\n",
       "        [7. , 3.2, 4.7, 1.4],\n",
       "        [6.4, 3.2, 4.5, 1.5],\n",
       "        [6.9, 3.1, 4.9, 1.5],\n",
       "        [5.5, 2.3, 4. , 1.3],\n",
       "        [6.5, 2.8, 4.6, 1.5],\n",
       "        [5.7, 2.8, 4.5, 1.3],\n",
       "        [6.3, 3.3, 4.7, 1.6],\n",
       "        [4.9, 2.4, 3.3, 1. ],\n",
       "        [6.6, 2.9, 4.6, 1.3],\n",
       "        [5.2, 2.7, 3.9, 1.4],\n",
       "        [5. , 2. , 3.5, 1. ],\n",
       "        [5.9, 3. , 4.2, 1.5],\n",
       "        [6. , 2.2, 4. , 1. ],\n",
       "        [6.1, 2.9, 4.7, 1.4],\n",
       "        [5.6, 2.9, 3.6, 1.3],\n",
       "        [6.7, 3.1, 4.4, 1.4],\n",
       "        [5.6, 3. , 4.5, 1.5],\n",
       "        [5.8, 2.7, 4.1, 1. ],\n",
       "        [6.2, 2.2, 4.5, 1.5],\n",
       "        [5.6, 2.5, 3.9, 1.1],\n",
       "        [5.9, 3.2, 4.8, 1.8],\n",
       "        [6.1, 2.8, 4. , 1.3],\n",
       "        [6.3, 2.5, 4.9, 1.5],\n",
       "        [6.1, 2.8, 4.7, 1.2],\n",
       "        [6.4, 2.9, 4.3, 1.3],\n",
       "        [6.6, 3. , 4.4, 1.4],\n",
       "        [6.8, 2.8, 4.8, 1.4],\n",
       "        [6.7, 3. , 5. , 1.7],\n",
       "        [6. , 2.9, 4.5, 1.5],\n",
       "        [5.7, 2.6, 3.5, 1. ],\n",
       "        [5.5, 2.4, 3.8, 1.1],\n",
       "        [5.5, 2.4, 3.7, 1. ],\n",
       "        [5.8, 2.7, 3.9, 1.2],\n",
       "        [6. , 2.7, 5.1, 1.6],\n",
       "        [5.4, 3. , 4.5, 1.5],\n",
       "        [6. , 3.4, 4.5, 1.6],\n",
       "        [6.7, 3.1, 4.7, 1.5],\n",
       "        [6.3, 2.3, 4.4, 1.3],\n",
       "        [5.6, 3. , 4.1, 1.3],\n",
       "        [5.5, 2.5, 4. , 1.3],\n",
       "        [5.5, 2.6, 4.4, 1.2],\n",
       "        [6.1, 3. , 4.6, 1.4],\n",
       "        [5.8, 2.6, 4. , 1.2],\n",
       "        [5. , 2.3, 3.3, 1. ],\n",
       "        [5.6, 2.7, 4.2, 1.3],\n",
       "        [5.7, 3. , 4.2, 1.2],\n",
       "        [5.7, 2.9, 4.2, 1.3],\n",
       "        [6.2, 2.9, 4.3, 1.3],\n",
       "        [5.1, 2.5, 3. , 1.1],\n",
       "        [5.7, 2.8, 4.1, 1.3],\n",
       "        [6.3, 3.3, 6. , 2.5],\n",
       "        [5.8, 2.7, 5.1, 1.9],\n",
       "        [7.1, 3. , 5.9, 2.1],\n",
       "        [6.3, 2.9, 5.6, 1.8],\n",
       "        [6.5, 3. , 5.8, 2.2],\n",
       "        [7.6, 3. , 6.6, 2.1],\n",
       "        [4.9, 2.5, 4.5, 1.7],\n",
       "        [7.3, 2.9, 6.3, 1.8],\n",
       "        [6.7, 2.5, 5.8, 1.8],\n",
       "        [7.2, 3.6, 6.1, 2.5],\n",
       "        [6.5, 3.2, 5.1, 2. ],\n",
       "        [6.4, 2.7, 5.3, 1.9],\n",
       "        [6.8, 3. , 5.5, 2.1],\n",
       "        [5.7, 2.5, 5. , 2. ],\n",
       "        [5.8, 2.8, 5.1, 2.4],\n",
       "        [6.4, 3.2, 5.3, 2.3],\n",
       "        [6.5, 3. , 5.5, 1.8],\n",
       "        [7.7, 3.8, 6.7, 2.2],\n",
       "        [7.7, 2.6, 6.9, 2.3],\n",
       "        [6. , 2.2, 5. , 1.5],\n",
       "        [6.9, 3.2, 5.7, 2.3],\n",
       "        [5.6, 2.8, 4.9, 2. ],\n",
       "        [7.7, 2.8, 6.7, 2. ],\n",
       "        [6.3, 2.7, 4.9, 1.8],\n",
       "        [6.7, 3.3, 5.7, 2.1],\n",
       "        [7.2, 3.2, 6. , 1.8],\n",
       "        [6.2, 2.8, 4.8, 1.8],\n",
       "        [6.1, 3. , 4.9, 1.8],\n",
       "        [6.4, 2.8, 5.6, 2.1],\n",
       "        [7.2, 3. , 5.8, 1.6],\n",
       "        [7.4, 2.8, 6.1, 1.9],\n",
       "        [7.9, 3.8, 6.4, 2. ],\n",
       "        [6.4, 2.8, 5.6, 2.2],\n",
       "        [6.3, 2.8, 5.1, 1.5],\n",
       "        [6.1, 2.6, 5.6, 1.4],\n",
       "        [7.7, 3. , 6.1, 2.3],\n",
       "        [6.3, 3.4, 5.6, 2.4],\n",
       "        [6.4, 3.1, 5.5, 1.8],\n",
       "        [6. , 3. , 4.8, 1.8],\n",
       "        [6.9, 3.1, 5.4, 2.1],\n",
       "        [6.7, 3.1, 5.6, 2.4],\n",
       "        [6.9, 3.1, 5.1, 2.3],\n",
       "        [5.8, 2.7, 5.1, 1.9],\n",
       "        [6.8, 3.2, 5.9, 2.3],\n",
       "        [6.7, 3.3, 5.7, 2.5],\n",
       "        [6.7, 3. , 5.2, 2.3],\n",
       "        [6.3, 2.5, 5. , 1.9],\n",
       "        [6.5, 3. , 5.2, 2. ],\n",
       "        [6.2, 3.4, 5.4, 2.3],\n",
       "        [5.9, 3. , 5.1, 1.8]]),\n",
       " 'target': array([0, 0, 0, 0, 0, 0, 0, 0, 0, 0, 0, 0, 0, 0, 0, 0, 0, 0, 0, 0, 0, 0,\n",
       "        0, 0, 0, 0, 0, 0, 0, 0, 0, 0, 0, 0, 0, 0, 0, 0, 0, 0, 0, 0, 0, 0,\n",
       "        0, 0, 0, 0, 0, 0, 1, 1, 1, 1, 1, 1, 1, 1, 1, 1, 1, 1, 1, 1, 1, 1,\n",
       "        1, 1, 1, 1, 1, 1, 1, 1, 1, 1, 1, 1, 1, 1, 1, 1, 1, 1, 1, 1, 1, 1,\n",
       "        1, 1, 1, 1, 1, 1, 1, 1, 1, 1, 1, 1, 2, 2, 2, 2, 2, 2, 2, 2, 2, 2,\n",
       "        2, 2, 2, 2, 2, 2, 2, 2, 2, 2, 2, 2, 2, 2, 2, 2, 2, 2, 2, 2, 2, 2,\n",
       "        2, 2, 2, 2, 2, 2, 2, 2, 2, 2, 2, 2, 2, 2, 2, 2, 2, 2]),\n",
       " 'frame': None,\n",
       " 'target_names': array(['setosa', 'versicolor', 'virginica'], dtype='<U10'),\n",
       " 'DESCR': '.. _iris_dataset:\\n\\nIris plants dataset\\n--------------------\\n\\n**Data Set Characteristics:**\\n\\n    :Number of Instances: 150 (50 in each of three classes)\\n    :Number of Attributes: 4 numeric, predictive attributes and the class\\n    :Attribute Information:\\n        - sepal length in cm\\n        - sepal width in cm\\n        - petal length in cm\\n        - petal width in cm\\n        - class:\\n                - Iris-Setosa\\n                - Iris-Versicolour\\n                - Iris-Virginica\\n                \\n    :Summary Statistics:\\n\\n    ============== ==== ==== ======= ===== ====================\\n                    Min  Max   Mean    SD   Class Correlation\\n    ============== ==== ==== ======= ===== ====================\\n    sepal length:   4.3  7.9   5.84   0.83    0.7826\\n    sepal width:    2.0  4.4   3.05   0.43   -0.4194\\n    petal length:   1.0  6.9   3.76   1.76    0.9490  (high!)\\n    petal width:    0.1  2.5   1.20   0.76    0.9565  (high!)\\n    ============== ==== ==== ======= ===== ====================\\n\\n    :Missing Attribute Values: None\\n    :Class Distribution: 33.3% for each of 3 classes.\\n    :Creator: R.A. Fisher\\n    :Donor: Michael Marshall (MARSHALL%PLU@io.arc.nasa.gov)\\n    :Date: July, 1988\\n\\nThe famous Iris database, first used by Sir R.A. Fisher. The dataset is taken\\nfrom Fisher\\'s paper. Note that it\\'s the same as in R, but not as in the UCI\\nMachine Learning Repository, which has two wrong data points.\\n\\nThis is perhaps the best known database to be found in the\\npattern recognition literature.  Fisher\\'s paper is a classic in the field and\\nis referenced frequently to this day.  (See Duda & Hart, for example.)  The\\ndata set contains 3 classes of 50 instances each, where each class refers to a\\ntype of iris plant.  One class is linearly separable from the other 2; the\\nlatter are NOT linearly separable from each other.\\n\\n.. topic:: References\\n\\n   - Fisher, R.A. \"The use of multiple measurements in taxonomic problems\"\\n     Annual Eugenics, 7, Part II, 179-188 (1936); also in \"Contributions to\\n     Mathematical Statistics\" (John Wiley, NY, 1950).\\n   - Duda, R.O., & Hart, P.E. (1973) Pattern Classification and Scene Analysis.\\n     (Q327.D83) John Wiley & Sons.  ISBN 0-471-22361-1.  See page 218.\\n   - Dasarathy, B.V. (1980) \"Nosing Around the Neighborhood: A New System\\n     Structure and Classification Rule for Recognition in Partially Exposed\\n     Environments\".  IEEE Transactions on Pattern Analysis and Machine\\n     Intelligence, Vol. PAMI-2, No. 1, 67-71.\\n   - Gates, G.W. (1972) \"The Reduced Nearest Neighbor Rule\".  IEEE Transactions\\n     on Information Theory, May 1972, 431-433.\\n   - See also: 1988 MLC Proceedings, 54-64.  Cheeseman et al\"s AUTOCLASS II\\n     conceptual clustering system finds 3 classes in the data.\\n   - Many, many more ...',\n",
       " 'feature_names': ['sepal length (cm)',\n",
       "  'sepal width (cm)',\n",
       "  'petal length (cm)',\n",
       "  'petal width (cm)'],\n",
       " 'filename': 'iris.csv',\n",
       " 'data_module': 'sklearn.datasets.data'}"
      ]
     },
     "execution_count": 4,
     "metadata": {},
     "output_type": "execute_result"
    }
   ],
   "source": [
    "iris"
   ]
  },
  {
   "cell_type": "code",
   "execution_count": 5,
   "id": "0d437072-29aa-4ee7-9716-d3991f62c29d",
   "metadata": {},
   "outputs": [],
   "source": [
    "irisDF=pd.DataFrame(data=iris.data,columns=iris.feature_names)"
   ]
  },
  {
   "cell_type": "code",
   "execution_count": 6,
   "id": "0fe96060-99ba-4c96-b396-589e1a288797",
   "metadata": {},
   "outputs": [],
   "source": [
    "irisDF['target']=iris.target"
   ]
  },
  {
   "cell_type": "code",
   "execution_count": 7,
   "id": "6f8f0d0f-f60a-4824-b460-cb3d7f1eb50e",
   "metadata": {},
   "outputs": [],
   "source": [
    "target_mapping = {\n",
    "    0: 'Iris-setosa',\n",
    "    1: 'Iris-versicolor',\n",
    "    2: 'Iris-virginica'\n",
    "}"
   ]
  },
  {
   "cell_type": "code",
   "execution_count": 8,
   "id": "2e202216-13d5-42d5-8803-1a9ee3ad4d7f",
   "metadata": {},
   "outputs": [],
   "source": [
    "irisDF['target_category']=irisDF['target'].map(target_mapping)"
   ]
  },
  {
   "cell_type": "code",
   "execution_count": 9,
   "id": "9170b3b7-fa6f-4b73-8abc-40dec1b4d59e",
   "metadata": {},
   "outputs": [
    {
     "data": {
      "text/html": [
       "<div>\n",
       "<style scoped>\n",
       "    .dataframe tbody tr th:only-of-type {\n",
       "        vertical-align: middle;\n",
       "    }\n",
       "\n",
       "    .dataframe tbody tr th {\n",
       "        vertical-align: top;\n",
       "    }\n",
       "\n",
       "    .dataframe thead th {\n",
       "        text-align: right;\n",
       "    }\n",
       "</style>\n",
       "<table border=\"1\" class=\"dataframe\">\n",
       "  <thead>\n",
       "    <tr style=\"text-align: right;\">\n",
       "      <th></th>\n",
       "      <th>sepal length (cm)</th>\n",
       "      <th>sepal width (cm)</th>\n",
       "      <th>petal length (cm)</th>\n",
       "      <th>petal width (cm)</th>\n",
       "      <th>target</th>\n",
       "      <th>target_category</th>\n",
       "    </tr>\n",
       "  </thead>\n",
       "  <tbody>\n",
       "    <tr>\n",
       "      <th>0</th>\n",
       "      <td>5.1</td>\n",
       "      <td>3.5</td>\n",
       "      <td>1.4</td>\n",
       "      <td>0.2</td>\n",
       "      <td>0</td>\n",
       "      <td>Iris-setosa</td>\n",
       "    </tr>\n",
       "    <tr>\n",
       "      <th>1</th>\n",
       "      <td>4.9</td>\n",
       "      <td>3.0</td>\n",
       "      <td>1.4</td>\n",
       "      <td>0.2</td>\n",
       "      <td>0</td>\n",
       "      <td>Iris-setosa</td>\n",
       "    </tr>\n",
       "    <tr>\n",
       "      <th>2</th>\n",
       "      <td>4.7</td>\n",
       "      <td>3.2</td>\n",
       "      <td>1.3</td>\n",
       "      <td>0.2</td>\n",
       "      <td>0</td>\n",
       "      <td>Iris-setosa</td>\n",
       "    </tr>\n",
       "    <tr>\n",
       "      <th>3</th>\n",
       "      <td>4.6</td>\n",
       "      <td>3.1</td>\n",
       "      <td>1.5</td>\n",
       "      <td>0.2</td>\n",
       "      <td>0</td>\n",
       "      <td>Iris-setosa</td>\n",
       "    </tr>\n",
       "    <tr>\n",
       "      <th>4</th>\n",
       "      <td>5.0</td>\n",
       "      <td>3.6</td>\n",
       "      <td>1.4</td>\n",
       "      <td>0.2</td>\n",
       "      <td>0</td>\n",
       "      <td>Iris-setosa</td>\n",
       "    </tr>\n",
       "  </tbody>\n",
       "</table>\n",
       "</div>"
      ],
      "text/plain": [
       "   sepal length (cm)  sepal width (cm)  petal length (cm)  petal width (cm)  \\\n",
       "0                5.1               3.5                1.4               0.2   \n",
       "1                4.9               3.0                1.4               0.2   \n",
       "2                4.7               3.2                1.3               0.2   \n",
       "3                4.6               3.1                1.5               0.2   \n",
       "4                5.0               3.6                1.4               0.2   \n",
       "\n",
       "   target target_category  \n",
       "0       0     Iris-setosa  \n",
       "1       0     Iris-setosa  \n",
       "2       0     Iris-setosa  \n",
       "3       0     Iris-setosa  \n",
       "4       0     Iris-setosa  "
      ]
     },
     "execution_count": 9,
     "metadata": {},
     "output_type": "execute_result"
    }
   ],
   "source": [
    "irisDF.head()"
   ]
  },
  {
   "cell_type": "code",
   "execution_count": 10,
   "id": "81923689-6463-4e71-9ceb-8a7d11545291",
   "metadata": {},
   "outputs": [
    {
     "data": {
      "text/plain": [
       "4.3"
      ]
     },
     "execution_count": 10,
     "metadata": {},
     "output_type": "execute_result"
    }
   ],
   "source": [
    "irisDF['sepal length (cm)'].min()"
   ]
  },
  {
   "cell_type": "code",
   "execution_count": 11,
   "id": "978449a2-07a3-4c84-a505-7128295af944",
   "metadata": {},
   "outputs": [
    {
     "data": {
      "text/plain": [
       "7.9"
      ]
     },
     "execution_count": 11,
     "metadata": {},
     "output_type": "execute_result"
    }
   ],
   "source": [
    "irisDF['sepal length (cm)'].max()"
   ]
  },
  {
   "cell_type": "code",
   "execution_count": 12,
   "id": "2788b915-9bc5-470c-a7f6-0df9c5d25139",
   "metadata": {},
   "outputs": [
    {
     "data": {
      "text/plain": [
       "2.0"
      ]
     },
     "execution_count": 12,
     "metadata": {},
     "output_type": "execute_result"
    }
   ],
   "source": [
    "irisDF['sepal width (cm)'].min()"
   ]
  },
  {
   "cell_type": "code",
   "execution_count": 13,
   "id": "17887b4f-282f-4c48-acfe-3dcfb41c4ae1",
   "metadata": {},
   "outputs": [
    {
     "data": {
      "text/plain": [
       "4.4"
      ]
     },
     "execution_count": 13,
     "metadata": {},
     "output_type": "execute_result"
    }
   ],
   "source": [
    "irisDF['sepal width (cm)'].max()"
   ]
  },
  {
   "cell_type": "code",
   "execution_count": 14,
   "id": "f5c73494-5e5a-46f9-aae9-a194b639a752",
   "metadata": {},
   "outputs": [
    {
     "data": {
      "text/plain": [
       "1.0"
      ]
     },
     "execution_count": 14,
     "metadata": {},
     "output_type": "execute_result"
    }
   ],
   "source": [
    "irisDF['petal length (cm)'].min()"
   ]
  },
  {
   "cell_type": "code",
   "execution_count": 15,
   "id": "a2cbba56-63d0-43ab-b87b-d231661ed97b",
   "metadata": {},
   "outputs": [
    {
     "data": {
      "text/plain": [
       "6.9"
      ]
     },
     "execution_count": 15,
     "metadata": {},
     "output_type": "execute_result"
    }
   ],
   "source": [
    "irisDF['petal length (cm)'].max()"
   ]
  },
  {
   "cell_type": "code",
   "execution_count": 16,
   "id": "bc039fa6-6da4-4e44-a8c2-d8fe7b2e661f",
   "metadata": {},
   "outputs": [
    {
     "data": {
      "text/plain": [
       "0.1"
      ]
     },
     "execution_count": 16,
     "metadata": {},
     "output_type": "execute_result"
    }
   ],
   "source": [
    "irisDF['petal width (cm)'].min()"
   ]
  },
  {
   "cell_type": "code",
   "execution_count": 17,
   "id": "677f4d90-46ce-40fe-a117-279dd37d23d8",
   "metadata": {},
   "outputs": [
    {
     "data": {
      "text/plain": [
       "2.5"
      ]
     },
     "execution_count": 17,
     "metadata": {},
     "output_type": "execute_result"
    }
   ],
   "source": [
    "irisDF['petal width (cm)'].max()"
   ]
  },
  {
   "cell_type": "code",
   "execution_count": 18,
   "id": "a57bb37f-0a0e-415c-b39f-81adba929cab",
   "metadata": {},
   "outputs": [
    {
     "data": {
      "text/plain": [
       "array(['Iris-setosa', 'Iris-versicolor', 'Iris-virginica'], dtype=object)"
      ]
     },
     "execution_count": 18,
     "metadata": {},
     "output_type": "execute_result"
    }
   ],
   "source": [
    "irisDF['target_category'].unique()"
   ]
  },
  {
   "cell_type": "code",
   "execution_count": 19,
   "id": "024ff9ea-7000-4646-b2da-28dfd8660c3b",
   "metadata": {},
   "outputs": [
    {
     "data": {
      "text/plain": [
       "array([0, 1, 2])"
      ]
     },
     "execution_count": 19,
     "metadata": {},
     "output_type": "execute_result"
    }
   ],
   "source": [
    "irisDF['target'].unique()"
   ]
  },
  {
   "cell_type": "markdown",
   "id": "16d92fea-da81-492c-b05e-bc3e4180fb07",
   "metadata": {},
   "source": [
    "Sepal Length:\n",
    "The length of the sepal of the iris flower.\n",
    "Typically measured in centimeters (cm).\n",
    "The values range from approximately 4.3 cm to 7.9 cm.\n",
    "\n",
    "Sepal Width:\n",
    "The width of the sepal of the iris flower.\n",
    "Measured in centimeters (cm).\n",
    "The values range from approximately 2.0 cm to 4.4 cm.\n",
    "\n",
    "Petal Length:\n",
    "The length of the petal of the iris flower.\n",
    "Measured in centimeters (cm).\n",
    "The values range from approximately 1.0 cm to 6.9 cm.\n",
    "\n",
    "Petal Width:\n",
    "The width of the petal of the iris flower.\n",
    "Measured in centimeters (cm).\n",
    "The values range from approximately 0.1 cm to 2.5 cm.\n",
    "\n",
    "Target:\n",
    "The species of the iris flower.\n",
    "\n",
    "Categories:\n",
    "\n",
    "Iris-setosa: One of the three species in the dataset, typically characterized by smaller petals and sepals. is labeled as 0\n",
    "\n",
    "Iris-versicolor: A species with medium-sized petals and sepals, often considered intermediate in features. is labeled as 1\n",
    "\n",
    "Iris-virginica: The species with the largest petals and sepals in the dataset. is labeled as 2"
   ]
  },
  {
   "cell_type": "markdown",
   "id": "fddf9817-8f8b-468b-9b13-55d95de738ac",
   "metadata": {},
   "source": [
    "# 3. Categorize Data Types:\n",
    "## 1. Quantitative Data: Identify quantitative variables."
   ]
  },
  {
   "cell_type": "markdown",
   "id": "6c3b8027-d7fb-4da4-9540-bfd783c514d2",
   "metadata": {},
   "source": [
    "Quantitative Data are those which are numerical where we can perform statistical anlysis such as finding sum, mean, variance, std etc..\n",
    "The iris dataset has these quantitative data fields (columns) such as:\n",
    "1. sepal length in centimeters\n",
    "2. sepal width in centimeters\n",
    "3. petal length in centimeters\n",
    "4. peta width in centimenters"
   ]
  },
  {
   "cell_type": "code",
   "execution_count": 20,
   "id": "773cde4f-9173-4e3c-9fcf-719dba1874f1",
   "metadata": {},
   "outputs": [
    {
     "data": {
      "text/html": [
       "<div>\n",
       "<style scoped>\n",
       "    .dataframe tbody tr th:only-of-type {\n",
       "        vertical-align: middle;\n",
       "    }\n",
       "\n",
       "    .dataframe tbody tr th {\n",
       "        vertical-align: top;\n",
       "    }\n",
       "\n",
       "    .dataframe thead th {\n",
       "        text-align: right;\n",
       "    }\n",
       "</style>\n",
       "<table border=\"1\" class=\"dataframe\">\n",
       "  <thead>\n",
       "    <tr style=\"text-align: right;\">\n",
       "      <th></th>\n",
       "      <th>sepal length (cm)</th>\n",
       "      <th>sepal width (cm)</th>\n",
       "      <th>petal length (cm)</th>\n",
       "      <th>petal width (cm)</th>\n",
       "      <th>target</th>\n",
       "    </tr>\n",
       "  </thead>\n",
       "  <tbody>\n",
       "    <tr>\n",
       "      <th>0</th>\n",
       "      <td>5.1</td>\n",
       "      <td>3.5</td>\n",
       "      <td>1.4</td>\n",
       "      <td>0.2</td>\n",
       "      <td>0</td>\n",
       "    </tr>\n",
       "    <tr>\n",
       "      <th>1</th>\n",
       "      <td>4.9</td>\n",
       "      <td>3.0</td>\n",
       "      <td>1.4</td>\n",
       "      <td>0.2</td>\n",
       "      <td>0</td>\n",
       "    </tr>\n",
       "    <tr>\n",
       "      <th>2</th>\n",
       "      <td>4.7</td>\n",
       "      <td>3.2</td>\n",
       "      <td>1.3</td>\n",
       "      <td>0.2</td>\n",
       "      <td>0</td>\n",
       "    </tr>\n",
       "    <tr>\n",
       "      <th>3</th>\n",
       "      <td>4.6</td>\n",
       "      <td>3.1</td>\n",
       "      <td>1.5</td>\n",
       "      <td>0.2</td>\n",
       "      <td>0</td>\n",
       "    </tr>\n",
       "    <tr>\n",
       "      <th>4</th>\n",
       "      <td>5.0</td>\n",
       "      <td>3.6</td>\n",
       "      <td>1.4</td>\n",
       "      <td>0.2</td>\n",
       "      <td>0</td>\n",
       "    </tr>\n",
       "  </tbody>\n",
       "</table>\n",
       "</div>"
      ],
      "text/plain": [
       "   sepal length (cm)  sepal width (cm)  petal length (cm)  petal width (cm)  \\\n",
       "0                5.1               3.5                1.4               0.2   \n",
       "1                4.9               3.0                1.4               0.2   \n",
       "2                4.7               3.2                1.3               0.2   \n",
       "3                4.6               3.1                1.5               0.2   \n",
       "4                5.0               3.6                1.4               0.2   \n",
       "\n",
       "   target  \n",
       "0       0  \n",
       "1       0  \n",
       "2       0  \n",
       "3       0  \n",
       "4       0  "
      ]
     },
     "execution_count": 20,
     "metadata": {},
     "output_type": "execute_result"
    }
   ],
   "source": [
    "irisDF.select_dtypes('number').head()"
   ]
  },
  {
   "cell_type": "markdown",
   "id": "7d37f810-12c0-4761-a104-4cff13442656",
   "metadata": {},
   "source": [
    "## 2. Qualitative Data: Identify qualitative variables."
   ]
  },
  {
   "cell_type": "markdown",
   "id": "1adaff2d-cc06-4d51-81a3-94e2ccbe0cc9",
   "metadata": {},
   "source": [
    "Quantitative data are those which are not numerical but are know as categorical data where can not perform numerical operation. The iris dataset has quanlitative data field (column) such as : </b>Target_category</b>"
   ]
  },
  {
   "cell_type": "code",
   "execution_count": 21,
   "id": "26fcc83c-2154-460a-9e48-14e8dfefe4dd",
   "metadata": {},
   "outputs": [
    {
     "data": {
      "text/html": [
       "<div>\n",
       "<style scoped>\n",
       "    .dataframe tbody tr th:only-of-type {\n",
       "        vertical-align: middle;\n",
       "    }\n",
       "\n",
       "    .dataframe tbody tr th {\n",
       "        vertical-align: top;\n",
       "    }\n",
       "\n",
       "    .dataframe thead th {\n",
       "        text-align: right;\n",
       "    }\n",
       "</style>\n",
       "<table border=\"1\" class=\"dataframe\">\n",
       "  <thead>\n",
       "    <tr style=\"text-align: right;\">\n",
       "      <th></th>\n",
       "      <th>target_category</th>\n",
       "    </tr>\n",
       "  </thead>\n",
       "  <tbody>\n",
       "    <tr>\n",
       "      <th>0</th>\n",
       "      <td>Iris-setosa</td>\n",
       "    </tr>\n",
       "    <tr>\n",
       "      <th>1</th>\n",
       "      <td>Iris-setosa</td>\n",
       "    </tr>\n",
       "    <tr>\n",
       "      <th>2</th>\n",
       "      <td>Iris-setosa</td>\n",
       "    </tr>\n",
       "    <tr>\n",
       "      <th>3</th>\n",
       "      <td>Iris-setosa</td>\n",
       "    </tr>\n",
       "    <tr>\n",
       "      <th>4</th>\n",
       "      <td>Iris-setosa</td>\n",
       "    </tr>\n",
       "  </tbody>\n",
       "</table>\n",
       "</div>"
      ],
      "text/plain": [
       "  target_category\n",
       "0     Iris-setosa\n",
       "1     Iris-setosa\n",
       "2     Iris-setosa\n",
       "3     Iris-setosa\n",
       "4     Iris-setosa"
      ]
     },
     "execution_count": 21,
     "metadata": {},
     "output_type": "execute_result"
    }
   ],
   "source": [
    "irisDF.select_dtypes('object').head()"
   ]
  },
  {
   "cell_type": "markdown",
   "id": "25c04880-ec0d-433a-8cd9-b118753ec9c4",
   "metadata": {},
   "source": [
    "---\n",
    "# Explain why it’s important to understand the types of data in a dataset."
   ]
  },
  {
   "cell_type": "markdown",
   "id": "37d12c51-f13d-4ce2-9a87-a5e94ce12f30",
   "metadata": {},
   "source": [
    "1. Appropriate Analysis Techniques\n",
    "Different types of data require different analytical techniques. For example:\n",
    "Quantitative Data: Suitable for statistical analysis, including measures like mean, median, variance, and regression analysis.\n",
    "Qualitative Data: Often analyzed using categorical methods, such as chi-square tests or logistic regression.\n",
    "\n",
    "2. Choosing the Right Models\n",
    "Understanding data types helps in selecting the appropriate modeling approach:\n",
    "Regression Models: Typically used for quantitative target variables (e.g., predicting sales).\n",
    "Classification Models: Used for qualitative target variables (e.g., classifying species in the Iris dataset).\n",
    "\n",
    "3. Data Preprocessing\n",
    "Different data types require different preprocessing techniques:\n",
    "Normalization/Standardization: Often necessary for quantitative data to ensure all features contribute equally to the analysis.\n",
    "Encoding: Qualitative data must be converted into a numerical format  for machine learning algorithms.\n",
    "\n",
    "4. Interpreting Results\n",
    "The interpretation of results varies with data types:\n",
    "Continuous Variables: Interpretations revolve around numerical trends and relationships.\n",
    "Categorical Variables: Focus on frequency distributions and associations between categories.\n",
    "\n",
    "5. Data Visualization\n",
    "The type of data influences the choice of visualization techniques:\n",
    "Quantitative Data: Best represented through histograms, scatter plots, and line graphs.\n",
    "Qualitative Data: Better visualized using bar charts, pie charts, or heatmaps.\n",
    "\n",
    "6. Handling Missing Data\n",
    "The approach to handling missing data can differ based on data types:\n",
    "Imputation Methods: Quantitative variables may use mean, median, or interpolation, while qualitative variables might use the mode or a placeholder category.\n",
    "\n",
    "7. Bias and Assumptions\n",
    "Understanding data types helps in recognizing potential biases and assumptions:\n",
    "Certain statistical tests or models assume normality, which applies primarily to quantitative data.\n",
    "Qualitative data can lead to misinterpretations if not properly categorized or analyzed.\n",
    "\n",
    "8. Improved Decision-Making\n",
    "A comprehensive understanding of the data types allows analysts and stakeholders to make informed decisions based on the right analytical approach, ultimately leading to more effective strategies and solutions.\n",
    "\n",
    "Summary\n",
    "Recognizing the types of data in a dataset is foundational to effective data analysis. It guides the selection of appropriate methods, enhances interpretation, supports accurate decision-making, and improves the overall quality of insights drawn from the data. Understanding data types helps analysts leverage their datasets to address specific questions and challenges effectively.\n",
    "\n",
    "---"
   ]
  },
  {
   "cell_type": "markdown",
   "id": "58f14a41-ce33-4d00-8442-5e0540ded43e",
   "metadata": {},
   "source": [
    "---\n",
    "# Discuss how different data types affect the choice of machine learning models and techniques. For instance:"
   ]
  },
  {
   "cell_type": "markdown",
   "id": "e2d0d728-e66d-4e49-8faa-d4e9141631f6",
   "metadata": {},
   "source": [
    "# Choosing Machine Learning Algorithms Based on Data Types\n",
    "\n",
    "The choice of machine learning algorithm completely depends on the data type available and the target you need. The selection varies based on the following data types:\n",
    "\n",
    "## 1. Quantitative Data\n",
    "**Definition**: Continuous or discrete numerical values.\n",
    "\n",
    "### Affects the Choice of Models:\n",
    "- **Regression Algorithms**:\n",
    "  - **Linear Regression**: Used for predicting a continuous target variable based on numerical features.\n",
    "  - **Polynomial Regression**: Useful for capturing non-linear relationships.\n",
    "  \n",
    "- **Tree-Based Models**:\n",
    "  - **Decision Trees, Random Forests, and Gradient Boosting**: Effective for both regression and classification tasks involving numerical features.\n",
    "  - **Support Vector Regression (SVR)**: Suitable for continuous outcomes with numeric predictors.\n",
    "\n",
    "### Affects Preprocessing Techniques:\n",
    "- **Normalization/Standardization**: \n",
    "  - Ensures that features are on a similar scale, especially important for algorithms like K-Nearest Neighbors (KNN) and Support Vector Machines (SVM).\n",
    "  \n",
    "- **Feature Selection**: \n",
    "  - Techniques like correlation analysis can identify the most relevant quantitative features.\n",
    "---\n",
    "\n",
    "## 2. Qualitative Data\n",
    "**Definition**: Categorical variables representing distinct categories.\n",
    "\n",
    "### Affects the Choice of Models:\n",
    "- **Classification Algorithms**:\n",
    "  - **Logistic Regression**: Used for binary classification problems.\n",
    "  - **Decision Trees**: Can handle categorical features directly.\n",
    "  - **Support Vector Machines (SVM)**: Effective for classifying data based on category labels.\n",
    "  - **Naive Bayes**: Well-suited for categorical data, especially in text classification.\n",
    "\n",
    "### Affects Preprocessing Techniques:\n",
    "- **Encoding Techniques**:\n",
    "  - **Label Encoding**: Converts categorical values into numeric labels, suitable for ordinal data.\n",
    "  - **One-Hot Encoding**: Converts categorical values into a binary format, suitable for nominal data.\n",
    "\n",
    "- **Feature Engineering**: \n",
    "  - Creating new features based on categorical data, such as frequency encoding or target encoding.\n",
    "\n",
    "---\n",
    "## 3. Mixed Data Types\n",
    "**Definition**: Datasets often contain both quantitative and qualitative data.\n",
    "\n",
    "### Affects the Choice of Models:\n",
    "- **Ensemble Methods**: \n",
    "  - Algorithms like Random Forests and Gradient Boosting can handle both types of data simultaneously.\n",
    "  \n",
    "- **Multimodal Learning**: \n",
    "  - Models designed to process different types of data inputs, such as image and text, or numerical and categorical features.\n",
    "\n",
    "### Affects Preprocessing Techniques:\n",
    "- **Combined Techniques**: \n",
    "  - Standardizing quantitative features while one-hot encoding qualitative features, ensuring all inputs are compatible with algorithms.\n",
    "\n",
    "---\n",
    "\n",
    "## 4. Time-Series Data\n",
    "**Definition**: Data collected over time, often involving timestamps.\n",
    "\n",
    "### Affects the Choice of Models:\n",
    "- **Time-Series Forecasting Models**:\n",
    "  - **ARIMA (AutoRegressive Integrated Moving Average)**: For modeling and forecasting time series data.\n",
    "  - **LSTM (Long Short-Term Memory Networks)**: A type of recurrent neural network (RNN) effective for sequential data.\n",
    "\n",
    "### Affects Preprocessing Techniques:\n",
    "- **Lag Features**: \n",
    "  - Creating features based on previous time steps.\n",
    "\n",
    "- **Stationarity Tests**: \n",
    "  - Checking and transforming data to meet the assumptions required by time-series models.\n",
    "---\n",
    "\n",
    "## 5. Text Data\n",
    "**Definition**: Unstructured data in the form of text.\n",
    "\n",
    "### Affects the Choice of Models:\n",
    "- **Natural Language Processing (NLP) Models**:\n",
    "  - **Bag-of-Words and TF-IDF**: Used for feature extraction in text classification.\n",
    "  - **Word Embeddings (e.g., Word2Vec, GloVe)**: Capture semantic meanings for use in neural networks.\n",
    "\n",
    "### Affects Preprocessing Techniques:\n",
    "- **Tokenization**: \n",
    "  - Breaking down text into words or phrases.\n",
    "\n",
    "- **Text Normalization**: \n",
    "  - Lowercasing, removing stop words, stemming, or lemmatization.\n",
    "---\n"
   ]
  },
  {
   "cell_type": "markdown",
   "id": "87455a6f-f311-4749-a625-88b2e753beb8",
   "metadata": {},
   "source": [
    "# 1. Quantitative data might be used in regression models \n"
   ]
  },
  {
   "cell_type": "markdown",
   "id": "8b21fea0-82e9-48f9-918a-7d978646063d",
   "metadata": {},
   "source": [
    "# The Role of Quantitative Data in Regression Models\n",
    "\n",
    "Quantitative data plays a crucial role in regression models. These models are designed to analyze the relationship between a **dependent variable** and one or more **independent variables**, all of which are represented numerically.\n",
    "\n",
    "## How Quantitative Data is Utilized in Regression:\n",
    "\n",
    "### 1. Predictive Analysis\n",
    "Regression models allow us to predict the value of a dependent variable based on the values of independent variables. For example, we can predict **sales** based on **advertising spend**.\n",
    "\n",
    "### 2. Relationship Understanding\n",
    "By examining quantitative data, we can determine how changes in one variable impact another. This is essential for making informed decisions.\n",
    "\n",
    "### 3. Model Evaluation\n",
    "Quantitative data enables the use of statistical measures to assess the fit and accuracy of the model, such as **R-squared** and **p-values**, which help in understanding the effectiveness of our predictions.\n"
   ]
  },
  {
   "cell_type": "markdown",
   "id": "db1187c6-be1e-40de-9cff-c4a12ed68da3",
   "metadata": {},
   "source": [
    "# 2. Qualitative data might be used in classification models."
   ]
  },
  {
   "cell_type": "markdown",
   "id": "a0999da4-925c-4e43-b38e-ee7b317f1dac",
   "metadata": {},
   "source": [
    "# The Role of Qualitative Data in Classification Models\n",
    "\n",
    "Qualitative data plays an important role in classification models. These models are designed to categorize data points into distinct classes based on one or more features, which are often non-numerical.\n",
    "\n",
    "## How Qualitative Data is Utilized in Classification:\n",
    "\n",
    "### 1. Categorical Representation\n",
    "Classification models use qualitative data, such as **text labels** or **categories**, to classify instances. For example, classifying emails as **spam** or **not spam**.\n",
    "\n",
    "### 2. Feature Extraction\n",
    "Qualitative data can be transformed into numerical features through techniques like **one-hot encoding** or **label encoding**, enabling the model to process and analyze it effectively.\n",
    "\n",
    "### 3. Model Interpretation\n",
    "Qualitative attributes can provide insights into patterns and trends, helping to interpret the results and understand the factors influencing the classification.\n",
    "\n",
    "### 4. Performance Metrics\n",
    "Qualitative data allows for the evaluation of model performance using metrics like **accuracy**, **precision**, and **recall**, which are essential for assessing how well the model classifies data points.\n"
   ]
  },
  {
   "cell_type": "markdown",
   "id": "affa1f07-769d-4314-9de8-74d31dd676c4",
   "metadata": {},
   "source": [
    "# **Visualization**: Create visualizations to display the distribution of quantitative data and the frequency of qualitative data using tools like matplotlib or seaborn.\n",
    "---"
   ]
  },
  {
   "cell_type": "code",
   "execution_count": 22,
   "id": "bda30d91-f1f7-4da9-a9c8-acceb9927836",
   "metadata": {},
   "outputs": [],
   "source": [
    "import matplotlib.pyplot as plt\n",
    "import seaborn as sns\n",
    "import warnings\n",
    "warnings.filterwarnings(\"ignore\")"
   ]
  },
  {
   "cell_type": "code",
   "execution_count": 40,
   "id": "d1821bca-c868-4891-ad4c-9d603f1ac9c7",
   "metadata": {},
   "outputs": [
    {
     "data": {
      "image/png": "[encoded data removed]",
      "text/plain": [
       "<Figure size 1200x1200 with 5 Axes>"
      ]
     },
     "metadata": {},
     "output_type": "display_data"
    }
   ],
   "source": [
    "numeric_columns = irisDF.select_dtypes(include='number').columns\n",
    "num_columns = len(numeric_columns)\n",
    "rows=(num_columns+1)//2  \n",
    "fig,axes=plt.subplots(rows, 2, figsize=(12, 4 * rows))\n",
    "axes = axes.flatten()\n",
    "for i, column in enumerate(numeric_columns):\n",
    "    sns.histplot(irisDF[column], kde=True, bins=15, ax=axes[i],color='red')  \n",
    "    axes[i].set_title(f'Distribution of {column}')\n",
    "    axes[i].set_xlabel(column)\n",
    "    axes[i].set_ylabel('Frequency')\n",
    "for j in range(i+1, len(axes)):\n",
    "    fig.delaxes(axes[j])\n",
    "plt.tight_layout()\n",
    "plt.show()"
   ]
  },
  {
   "cell_type": "code",
   "execution_count": 51,
   "id": "5c20424a-39d6-4dd9-bc8b-c9622cb75e77",
   "metadata": {},
   "outputs": [
    {
     "data": {
      "image/png": "[encoded data removed]",
      "text/plain": [
       "<Figure size 640x480 with 1 Axes>"
      ]
     },
     "metadata": {},
     "output_type": "display_data"
    }
   ],
   "source": [
    "sns.countplot(x=irisDF['target_category'],color='red')\n",
    "plt.title('Distribution of Category Column')\n",
    "plt.show()"
   ]
  },
  {
   "cell_type": "code",
   "execution_count": null,
   "id": "c547b02a-4e55-4588-8ed5-99bbfc072421",
   "metadata": {},
   "outputs": [],
   "source": []
  }
 ],
 "metadata": {
  "kernelspec": {
   "display_name": "Python 3 (ipykernel)",
   "language": "python",
   "name": "python3"
  },
  "language_info": {
   "codemirror_mode": {
    "name": "ipython",
    "version": 3
   },
   "file_extension": ".py",
   "mimetype": "text/x-python",
   "name": "python",
   "nbconvert_exporter": "python",
   "pygments_lexer": "ipython3",
   "version": "3.11.7"
  }
 },
 "nbformat": 4,
 "nbformat_minor": 5
}
